{
 "cells": [
  {
   "cell_type": "markdown",
   "id": "bfbe6e45-a193-4553-bb06-d139ee71ca32",
   "metadata": {},
   "source": [
    "# ALICE R<sub>AA</sub> Masterclass \n",
    "\n",
    "Hallo :)\n",
    "\n",
    "Hier könnt ihr eure eigene Physikanalyse, mit Daten vom ALICE Experiment durchführen.\n",
    "\n",
    "Das Ziel ist die Bestimmung des nuklearen Modifikationsfaktors R<sub>AA</sub>.\n",
    "\n",
    "Dieser berechnet sich durch den Vergleich der Teilchenproduktion in Blei-Blei Kollisionen ($N_{Pb-Pb}$) und Proton-Proton Kollisionen ($N_{pp}$) wie folgt:\n",
    "\n",
    "$$\n",
    "\\Large R_{AA} = \\frac{N_{Pb-Pb}}{N_{coll} \\cdot N_{pp}}\n",
    "$$\n",
    "\n",
    "$N_{coll}$ entspricht der Anzahl der einzelnen Proton-Proton Kollisionen die bei der Kollision zweier Blei-Atomkerne stattfinden. Das muss in (aufwändigen) Simulationen bestimmt werden. Der Wert von $N_{coll}$ hängt somit auch damit zusammen, wie zentral die Blei-Kerne aufeinander treffen: Je zentraler die Kollision, desto mehr einzelne Proton-Proton Kollisionen sollten stattfinden.\n",
    "\n",
    "<img src=\"NColl.png\" alt=\"Alt text\" width=\"400\"/>\n",
    "\n",
    "Hier eine kurze Anleitung was ihr in dieser Analyse tun sollt:\n",
    "\n",
    "1: Importiert die Daten. Diese sind als CSV Datein abgespeichert.\n",
    "\n",
    "2: Zählt die Anzahl der entstandenen Teilchen pro Kollision in einer bestimmten Zentralität und in einem bestimmten Transversalimpuls-Bereich ($p_{T}$)\n",
    "\n",
    "3: Macht das gleiche für Proton-Proton Kollisionen. Hier gibt es keine Zentralität, ihr nehmt also alle Kollisionen\n",
    "\n",
    "4: Vergleicht die Ergebnisse aus Pb-Pb und pp Kollisionen mithilfe von R<sub>AA</sub>. \n",
    "\n",
    "5: Interpretiert, teilt und diskutiert eure Ergebnisse mit den anderen Gruppen"
   ]
  },
  {
   "cell_type": "code",
   "execution_count": 1,
   "id": "ecce698f-a798-4253-9518-dc229d5dc7c4",
   "metadata": {},
   "outputs": [],
   "source": [
    "# Hier werden die benötigten Python Pakete geladen, damit wir sie später im Code nutzen können\n",
    "import numpy as np\n",
    "import math \n",
    "import pandas as pd\n",
    "import json"
   ]
  },
  {
   "cell_type": "markdown",
   "id": "8139b037-7938-4993-8ef3-a8c3fdad90b2",
   "metadata": {},
   "source": [
    "Hier werden die Daten jetzt aus der CSV Datei geladen und in Listen geschrieben. \n",
    "\n",
    "Wir brauchen eine Liste mit der Zentralität für jedes Event.\n",
    "\n",
    "Zusätzlich brauchen wir eine Liste in der für jedes Event eine Liste der einzelnen Transversalimpulse der gemessenen Teilchen  steht.\n",
    "\n"
   ]
  },
  {
   "cell_type": "code",
   "execution_count": 2,
   "id": "ca89b9fc-6c19-425d-a326-7abb06e6a75c",
   "metadata": {},
   "outputs": [],
   "source": [
    "# Wir laden die Daten aus der CSV Datei\n",
    "df = pd.read_csv('data_PbPb.csv')\n",
    "# Wir laden die Werte der Zentralitäten in eine Liste \n",
    "centralities = df['centrality'].values.tolist()\n",
    "# Wir laden die Werte der gemessenen Teilchen in eine Liste. Da es in jeder Kollision mehrere Teilchen geben kann, ist tracks eine Liste von Listen \n",
    "tracks = df['tracks'].apply(json.loads)\n",
    "\n",
    "# Um den Inhalt von tracks anzuschauen, kann man die Liste printen\n",
    "# print(tracks)\n"
   ]
  },
  {
   "cell_type": "markdown",
   "id": "93a78e1e-3cc6-492e-a0d2-8878b2f4903f",
   "metadata": {},
   "source": [
    "Now we want to read in our file and specifically the informations about the centralities and tracks. For this purpose we use a for-loop that allows us to read each element in the file."
   ]
  },
  {
   "cell_type": "markdown",
   "id": "73b16c32-e900-4f2c-8642-7ee298a8e164",
   "metadata": {},
   "source": [
    "*TODO: Define two variables*\n",
    "You need one variable for counting the number of tracks and one for the event counting.\n",
    "\n",
    "*TODO: Select centralities for the event counting*\n",
    "\n",
    "*TODO: Add a new entry for your event counter*\n",
    "\n",
    "*TODO: Now write a small for-loop that can count the number of tracks in a specific momentum interval*\n"
   ]
  },
  {
   "cell_type": "code",
   "execution_count": 11,
   "id": "6cb286e8-0c33-4400-916a-6e4c7b50b24a",
   "metadata": {
    "tags": []
   },
   "outputs": [],
   "source": [
    "#Definiere Zentralitäten\n",
    "List_Cent=[[0, 10], [10, 30], [30, 50], [50, 70], [70, 90]]\n",
    "List_NColl=[1630, 805, 267, 65.4, 10.7]\n",
    "\n",
    "# Liste mit Anzahl der Events\n",
    "NEvt_PbPb=[0]*len(List_Cent)\n",
    "\n",
    "#Liste mit Anzahl der tracks\n",
    "NTr_PbPb=[0]*len(List_Cent)\n",
    "\n",
    "# Liste mit Teilchen für jede Zentralität\n",
    "List_Tr_PbPb= [[] for _ in range(len(List_Cent))]\n",
    "\n",
    "# Wir loopen über alle Kollisionen. Die Anzahl der Kollisionen entspricht der Länge der Liste der Zentralitäten\n",
    "for iEvt in range(len(centralities)):\n",
    "\n",
    "    # Hier können wir bestimmte Zentralitäten auswählen\n",
    "    cent = centralities[iEvt]\n",
    "    # bekomme den index der Zentralität\n",
    "    index = next((i for i, (low, high) in enumerate(List_Cent) if low <= cent < high), -1)\n",
    "    if index > -1:   \n",
    "        NEvt_PbPb[index]+=1\n",
    "        \n",
    "        for itr in range(len(tracks[iEvt])):\n",
    "            \n",
    "            # Info: Lade den Transversalimpuls des aktuellen Teilchens in eine eigene Variable (track_pt)\n",
    "            track_pt = float(tracks[iEvt][itr])\n",
    "            List_Tr_PbPb[index].append(track_pt)\n",
    "            \n",
    "            # Jetzt können wir bestimmte Transversalimpulse auswählen\n",
    "            if 0 < track_pt < 1:\n",
    "                NTr_PbPb[index]+=1\n",
    "                "
   ]
  },
  {
   "cell_type": "markdown",
   "id": "2ec54291-fbc6-4744-8b84-45ebb005e18d",
   "metadata": {},
   "source": [
    "*TODO*: Lasse dir ausgeben, wieviele Kollisionen und wie viele Teilchen du gefunden hast. \n",
    "\n",
    "*TODO*: Wie viele Teilchen hast du pro Kollision gefunden?\n"
   ]
  },
  {
   "cell_type": "code",
   "execution_count": null,
   "id": "bdaebab9-39d6-4677-99a7-cc073a9e8c4d",
   "metadata": {},
   "outputs": [],
   "source": [
    "#print the tracks per event\n",
    "for index in range(len(List_Cent)):\n",
    "    print(\"Für die Zentralität\", List_Cent[index][0], \"-\", List_Cent[index][1], \"%, wurden\", NTr_PbPb[index]/NEvt_PbPb[index], \"Teilchen pro Kollision gefunden\")"
   ]
  },
  {
   "cell_type": "markdown",
   "id": "88bc5430-2b08-46d6-927f-0452873d5f4a",
   "metadata": {},
   "source": [
    "Jetzt müssen wir das gleiche noch für Proton-Proton Kollisionen machen. \n",
    "\n",
    "Lade dazu in einem ersten Schritt die Daten aus der CSV Datei (data_pp.csv). Du brauchst hier nur die Daten der Teilchen laden, da es in Proton-Proton Kollisionen keine Zentrlität gibt\n",
    "\n",
    "Kopiere dazu am besten die entsprechenden Zeilen wo die Pb-Pb Daten geladen wurden.\n",
    "\n",
    "Danach kannst du eine for loop über alle Kollisionen und alle gemessenen Teilchen schreiben, und wieder die Anzahl der Teilchen pro Kollision berechnen"
   ]
  },
  {
   "cell_type": "code",
   "execution_count": 9,
   "id": "5374e36f-97ce-45f1-8166-1d37f46614a8",
   "metadata": {},
   "outputs": [],
   "source": [
    "# Wir laden die Daten aus der CSV Datei\n",
    "df_pp = pd.read_csv('data_pp.csv')\n",
    "tracks_pp = df_pp['tracks'].apply(json.loads)\n",
    "\n",
    "# Anzahl der Events in pp\n",
    "NEvt_pp=0\n",
    "\n",
    "#Anzahl der Teilchen in pp\n",
    "NTr_pp=0\n",
    "\n",
    "# Liste mit Teilchen für jede Zentralität\n",
    "List_Tr_pp = []\n",
    "\n",
    "for iEvt in range(len(tracks_pp)):\n",
    "    NEvt_pp+=1\n",
    "    for itr in range(len(tracks_pp[iEvt])):\n",
    "        track_pt = float(tracks_pp[iEvt][itr])\n",
    "        List_Tr_pp.append(track_pt)\n",
    "\n",
    "        if 0 < track_pt < 1:\n",
    "            NTr_pp+=1\n",
    "\n"
   ]
  },
  {
   "cell_type": "markdown",
   "id": "afae2797-008d-4032-ae39-36e401b13825",
   "metadata": {},
   "source": [
    "Nun hast du es fast geschafft :)\n",
    "\n",
    "Berechne jetzt den nuklearen Modifikationsfaktor $R_{AA}$ mithilfe der Anzahl der Teilchen in Pb-Pb Kollisionen, in pp Kollisionen und dem passenden Wert für $N_{coll}$"
   ]
  },
  {
   "cell_type": "code",
   "execution_count": null,
   "id": "50ad9d8a-4105-4257-82e9-9cb9681ce937",
   "metadata": {},
   "outputs": [],
   "source": [
    "for index in range(len(List_Cent)):\n",
    "    print(\"Für die Zentralität\", List_Cent[index][0], \"-\", List_Cent[index][1], \"%, ist RAA =\", (NTr_PbPb[index]/NEvt_PbPb[index])/(List_NColl[index]*NTr_pp/NEvt_pp))"
   ]
  },
  {
   "cell_type": "markdown",
   "id": "5b3faf8b",
   "metadata": {},
   "source": [
    "**Für Fortgeschrittene:**\n",
    "\n",
    "Erstelle einen Plot vom $R_{AA}$.\n",
    "\n",
    "Dazu musst du Folgendes tun:\n",
    "\n",
    "1. Fülle eine Liste mit allen $p_T$ Werten von allen Spuren (in der gewünschten Zentralitätsklasse). Mache das für Pb-Pb und pp Kollisionen\n",
    "\n",
    "1. Füge die beiden Listen in die unten definieren histogramme ein\n",
    "\n",
    "1. Teile das PbPb durch das pp histogram\n",
    "\n",
    "1. Skaliere das $R_{AA}$ noch mit $N_{coll}$\n",
    "\n",
    "1. Plotte dein histogram und interpretiere die Ergebnisse"
   ]
  },
  {
   "cell_type": "code",
   "execution_count": null,
   "id": "03712584",
   "metadata": {},
   "outputs": [],
   "source": [
    "# Importiere matplotlib zum plotten\n",
    "import matplotlib.pyplot as plt\n",
    "\n",
    "#Lade zunächst das pp histogram\n",
    "hist_pp, _     = np.histogram(List_Tr_pp, bins=50, range=(0, 10))  # gleiche Bins wie für PbPb!\n",
    "hist_pp = hist_pp/NEvt_pp\n",
    "\n",
    "# Erstelle die histogramme und füge die Daten ein (data_pt_PbPb und pp muss erst gefüllt werden!)\n",
    "hist_PbPb=[None] * len(List_Cent)\n",
    "hist_RAA=[None] * len(List_Cent)\n",
    "for index in range(len(List_Cent)):\n",
    "    hist_PbPb[index], bins = np.histogram(List_Tr_PbPb[index], bins=50, range=(0, 10))\n",
    "    # Normiere mit ANzahl der Kollisionen und NColl\n",
    "    hist_PbPb[index]=hist_PbPb[index]/(NEvt_PbPb[index]*List_NColl[index])\n",
    "\n",
    "    hist_RAA[index] = np.divide(hist_PbPb[index], hist_pp, out=np.zeros_like(hist_PbPb[index], dtype=float), where=hist_pp != 0)\n",
    "\n",
    "\n",
    "# Die folgende Zeile brauchen wir für die Darstellung beim Plotten\n",
    "bin_centers = 0.5 * (bins[1:] + bins[:-1])\n",
    "\n",
    "# Plotte das histogram und gebe ihm eine Sinnvolle Achsenbeschriftung\n",
    "colors = ['blue', 'orange', 'green', 'red', 'purple']\n",
    "for index in range(len(List_Cent)):\n",
    "    labelStr=str(List_Cent[index][0]) + \" - \" + str(List_Cent[index][1]) + \"%\"\n",
    "    plt.step(bin_centers, hist_RAA[index], where='mid', label=labelStr, color=colors[index])\n",
    "plt.xlabel(\"p_T (GeV/c)\")\n",
    "plt.ylabel(\"R_{AA}\")\n",
    "plt.title(\"\")\n",
    "plt.ylim(0, 1)\n",
    "plt.legend()\n",
    "plt.show()"
   ]
  }
 ],
 "metadata": {
  "kernelspec": {
   "display_name": "Python 3",
   "language": "python",
   "name": "python3"
  },
  "language_info": {
   "codemirror_mode": {
    "name": "ipython",
    "version": 3
   },
   "file_extension": ".py",
   "mimetype": "text/x-python",
   "name": "python",
   "nbconvert_exporter": "python",
   "pygments_lexer": "ipython3",
   "version": "3.10.12"
  }
 },
 "nbformat": 4,
 "nbformat_minor": 5
}
