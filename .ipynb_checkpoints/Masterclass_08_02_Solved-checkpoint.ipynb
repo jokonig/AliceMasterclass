{
 "cells": [
  {
   "cell_type": "markdown",
   "id": "bfbe6e45-a193-4553-bb06-d139ee71ca32",
   "metadata": {},
   "source": [
    "# Masterclass Part 2\n",
    "\n",
    "Hello everyone! \n",
    "\n",
    "First we need to import some packages that allow us to analyse our Data\""
   ]
  },
  {
   "cell_type": "code",
   "execution_count": null,
   "id": "ecce698f-a798-4253-9518-dc229d5dc7c4",
   "metadata": {},
   "outputs": [],
   "source": [
    "import numpy as np\n",
    "import math \n",
    "import pandas as pd"
   ]
  },
  {
   "cell_type": "markdown",
   "id": "8139b037-7938-4993-8ef3-a8c3fdad90b2",
   "metadata": {},
   "source": [
    "Now we can have a look at the data\n",
    " \n",
    "Typically we analyse our data using the so called root-framework which is why the data type is specified as .root"
   ]
  },
  {
   "cell_type": "code",
   "execution_count": null,
   "id": "ca89b9fc-6c19-425d-a326-7abb06e6a75c",
   "metadata": {},
   "outputs": [],
   "source": [
    "# Load Data (data_PbPb.csv or data_pp.csv)\n",
    "centralities = pd.read_csv(\"data_PbPb.csv\", usecols=['centrality'])\n",
    "tracks = pd.read_csv(\"data_PbPb.csv\", usecols=['tracks'])\n",
    "\n",
    "# Initialize an empty list for the tracks\n",
    "all_tracks_list = []\n",
    "\n",
    "for k in range(len(centralities)):\n",
    "    # Delete Brackets and make the Data compatible with python\n",
    "    alltracks = tracks.values[k][0].replace(\"[\", \"\").replace(\"]\", \"\")\n",
    "    temptrack = alltracks.split(\", \")\n",
    "\n",
    "    # Filter out empty strings\n",
    "    temptrack = [t for t in temptrack if t != '']\n",
    "    \n",
    "    # add temptrack-item to all_tracks_list\n",
    "    all_tracks_list.append(temptrack)"
   ]
  },
  {
   "cell_type": "markdown",
   "id": "93a78e1e-3cc6-492e-a0d2-8878b2f4903f",
   "metadata": {},
   "source": [
    "Now we want to read in our file and specifically the informations about the centralities and tracks. For this purpose we use a for-loop that allows us to read each element in the file."
   ]
  },
  {
   "cell_type": "markdown",
   "id": "73b16c32-e900-4f2c-8642-7ee298a8e164",
   "metadata": {},
   "source": [
    "*TODO: Define two variables*\n",
    "You need one variable for counting the number of tracks and one for the event counting.\n",
    "\n",
    "*TODO: Select centralities for the event counting*\n",
    "\n",
    "*TODO: Add a new entry for your event counter*\n",
    "\n",
    "*TODO: Now write a small for-loop that can count the number of tracks in a specific momentum interval*\n"
   ]
  },
  {
   "cell_type": "code",
   "execution_count": null,
   "id": "6cb286e8-0c33-4400-916a-6e4c7b50b24a",
   "metadata": {
    "tags": []
   },
   "outputs": [],
   "source": [
    "# Variable 1 for Events\n",
    "n_events = 0\n",
    "\n",
    "# Variable 2 for Tracks\n",
    "n_tracks = 0\n",
    "\n",
    "for i in range(len(centralities)):\n",
    "    cent = centralities.values[i]\n",
    "    if 0 < cent < 10: #select centralities:    \n",
    "        print(\"Event: \", n_events)    \n",
    "        n_events = n_events + 1\n",
    "            \n",
    "        for l in range(len(all_tracks_list[n_events-1])):\n",
    "            # Transverse momentum for each track: track_pt\n",
    "            track_pt = float(all_tracks_list[n_events-1][l])\n",
    "            if 10 < track_pt < 12:\n",
    "                print(\"Transverse Momentum: \", track_pt) \n",
    "                n_tracks = n_tracks +1"
   ]
  },
  {
   "cell_type": "markdown",
   "id": "2ec54291-fbc6-4744-8b84-45ebb005e18d",
   "metadata": {},
   "source": [
    "*TODO: Please print the tracks per event*\n",
    "\n",
    "**What calculations do you need to perform?**"
   ]
  },
  {
   "cell_type": "code",
   "execution_count": null,
   "id": "bdaebab9-39d6-4677-99a7-cc073a9e8c4d",
   "metadata": {},
   "outputs": [],
   "source": [
    "print(\"Tracks per Event: \", n_tracks/n_events)\n",
    "pbpb_var = n_tracks/n_events"
   ]
  },
  {
   "cell_type": "markdown",
   "id": "88bc5430-2b08-46d6-927f-0452873d5f4a",
   "metadata": {},
   "source": [
    "Now we can implement the same procedure for the collision system pp.\n",
    "\n",
    "Why are we doing this?"
   ]
  },
  {
   "cell_type": "code",
   "execution_count": null,
   "id": "5374e36f-97ce-45f1-8166-1d37f46614a8",
   "metadata": {},
   "outputs": [],
   "source": [
    "# Load Data (data_PbPb.csv or data_pp.csv)\n",
    "centralities = pd.read_csv(\"data_pp.csv\", usecols=['centrality'])\n",
    "tracks = pd.read_csv(\"data_pp.csv\", usecols=['tracks'])\n",
    "\n",
    "# Initialize an empty list for the tracks\n",
    "all_tracks_list = []\n",
    "\n",
    "for k in range(len(centralities)):\n",
    "    # Delete Brackets and make the Data compatible with python\n",
    "    alltracks = tracks.values[k][0].replace(\"[\", \"\").replace(\"]\", \"\")\n",
    "    temptrack = alltracks.split(\", \")\n",
    "\n",
    "    # Filter out empty strings\n",
    "    temptrack = [t for t in temptrack if t != '']\n",
    "    \n",
    "    # add temptrack-item to all_tracks_list\n",
    "    all_tracks_list.append(temptrack)\n",
    "\n",
    "# Variable 1 for Events\n",
    "n_events = 0\n",
    "\n",
    "# Variable 2 for Tracks\n",
    "n_tracks = 0\n",
    "\n",
    "# This time we dont print out each track to save time and make it easier for us to read the Notebook.\n",
    "\n",
    "for i in range(len(centralities)):\n",
    "    cent = centralities.values[i]\n",
    "    if 0 < cent < 100: #select centralities:    \n",
    "         \n",
    "        n_events = n_events + 1\n",
    "            \n",
    "        for l in range(len(all_tracks_list[n_events-1])):\n",
    "            # Transverse momentum for each track: track_pt\n",
    "            track_pt = float(all_tracks_list[n_events-1][l])\n",
    "            if 10 < track_pt < 12:\n",
    "                # It's easier to just show the Momentum for the specific events to keep it short\n",
    "                print(\"Event: \", n_events-1)  \n",
    "                print(\"Transverse Momentum: \", track_pt) \n",
    "                n_tracks = n_tracks +1\n",
    "\n",
    "print(\"Tracks per Event: \", n_tracks/n_events)\n",
    "pp_var = n_tracks/n_events"
   ]
  },
  {
   "cell_type": "markdown",
   "id": "afae2797-008d-4032-ae39-36e401b13825",
   "metadata": {},
   "source": [
    "*TODO: Please compare both collision systems*\n",
    "\n",
    "Which values can you compare?\n",
    "\n",
    "Why is it interesting to compare? What's the physics behind it?"
   ]
  },
  {
   "cell_type": "code",
   "execution_count": null,
   "id": "162cba52-f860-4d8a-a26c-e30c6f087d6a",
   "metadata": {},
   "outputs": [],
   "source": [
    "print(\"R_AA: \", (pbpb_var)/(1600*pp_var))"
   ]
  }
 ],
 "metadata": {
  "kernelspec": {
   "display_name": "Python 3 (ipykernel)",
   "language": "python",
   "name": "python3"
  },
  "language_info": {
   "codemirror_mode": {
    "name": "ipython",
    "version": 3
   },
   "file_extension": ".py",
   "mimetype": "text/x-python",
   "name": "python",
   "nbconvert_exporter": "python",
   "pygments_lexer": "ipython3",
   "version": "3.11.5"
  }
 },
 "nbformat": 4,
 "nbformat_minor": 5
}
